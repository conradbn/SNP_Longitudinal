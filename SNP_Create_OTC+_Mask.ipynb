{
 "cells": [
  {
   "cell_type": "code",
   "execution_count": null,
   "id": "a3a9ec68",
   "metadata": {},
   "outputs": [],
   "source": []
  },
  {
   "cell_type": "code",
   "execution_count": 1,
   "id": "392e9adb",
   "metadata": {},
   "outputs": [],
   "source": [
    "def create_masks(annot,ind_roi,signal_mask,out_file,out_dir):\n",
    "    # Mask annotation file to get surface regions\n",
    "    !3dcalc -overwrite -prefix {out_dir}{out_file} -a {out_dir}{annot} \\\n",
    "        -expr 'a*amongst(a,{ind_roi})'\n",
    "    \n",
    "    # Mask annotation file to get single combined surface region\n",
    "    out = out_file.replace('.niml.dset','.binary.niml.dset')\n",
    "    !3dcalc -overwrite -prefix {out_dir}{out} -a {out_dir}{annot} \\\n",
    "        -expr \"amongst(a,{ind_roi})\"\n",
    "    \n",
    "    # Mask annotation file to get single combined surface region\n",
    "    out = out_file.replace('.niml.dset','.sig_mask.niml.dset')\n",
    "    !3dcalc -overwrite -prefix {out_dir}{out} -a {out_dir}{annot} \\\n",
    "        -b {out_dir}{signal_mask} -expr \"a*amongst(a,{ind_roi})*not(b)\"\n",
    "    \n",
    "    # Mask annotation file to get single combined surface region\n",
    "    out = out_file.replace('.niml.dset','.binary.sig_mask.niml.dset')\n",
    "    !3dcalc -overwrite -prefix {out_dir}{out} -a {out_dir}{annot} \\\n",
    "        -b {out_dir}{signal_mask} -expr \"amongst(a,{ind_roi})*not(b)\""
   ]
  },
  {
   "cell_type": "code",
   "execution_count": 2,
   "id": "4f49d268",
   "metadata": {},
   "outputs": [
    {
     "name": "stdout",
     "output_type": "stream",
     "text": [
      "++ 3dcalc: AFNI version=AFNI_20.1.06 (May  4 2020) [64-bit]\n",
      "++ Authored by: A cast of thousands\n",
      "++ Output dataset /Volumes/NBL_Projects/NSF_SNP/matfiles/preprocessing_pipeline_surface_analyses/Analysis_in_Python/rois/std.60.lh.OTC_extended.niml.dset\n",
      "++ 3dcalc: AFNI version=AFNI_20.1.06 (May  4 2020) [64-bit]\n",
      "++ Authored by: A cast of thousands\n",
      "++ Output dataset /Volumes/NBL_Projects/NSF_SNP/matfiles/preprocessing_pipeline_surface_analyses/Analysis_in_Python/rois/std.60.lh.OTC_extended.binary.niml.dset\n",
      "++ 3dcalc: AFNI version=AFNI_20.1.06 (May  4 2020) [64-bit]\n",
      "++ Authored by: A cast of thousands\n",
      "++ Output dataset /Volumes/NBL_Projects/NSF_SNP/matfiles/preprocessing_pipeline_surface_analyses/Analysis_in_Python/rois/std.60.lh.OTC_extended.sig_mask.niml.dset\n",
      "++ 3dcalc: AFNI version=AFNI_20.1.06 (May  4 2020) [64-bit]\n",
      "++ Authored by: A cast of thousands\n",
      "++ Output dataset /Volumes/NBL_Projects/NSF_SNP/matfiles/preprocessing_pipeline_surface_analyses/Analysis_in_Python/rois/std.60.lh.OTC_extended.binary.sig_mask.niml.dset\n",
      "++ 3dcalc: AFNI version=AFNI_20.1.06 (May  4 2020) [64-bit]\n",
      "++ Authored by: A cast of thousands\n",
      "++ Output dataset /Volumes/NBL_Projects/NSF_SNP/matfiles/preprocessing_pipeline_surface_analyses/Analysis_in_Python/rois/std.60.rh.OTC_extended.niml.dset\n",
      "++ 3dcalc: AFNI version=AFNI_20.1.06 (May  4 2020) [64-bit]\n",
      "++ Authored by: A cast of thousands\n",
      "++ Output dataset /Volumes/NBL_Projects/NSF_SNP/matfiles/preprocessing_pipeline_surface_analyses/Analysis_in_Python/rois/std.60.rh.OTC_extended.binary.niml.dset\n",
      "++ 3dcalc: AFNI version=AFNI_20.1.06 (May  4 2020) [64-bit]\n",
      "++ Authored by: A cast of thousands\n",
      "++ Output dataset /Volumes/NBL_Projects/NSF_SNP/matfiles/preprocessing_pipeline_surface_analyses/Analysis_in_Python/rois/std.60.rh.OTC_extended.sig_mask.niml.dset\n",
      "++ 3dcalc: AFNI version=AFNI_20.1.06 (May  4 2020) [64-bit]\n",
      "++ Authored by: A cast of thousands\n",
      "++ Output dataset /Volumes/NBL_Projects/NSF_SNP/matfiles/preprocessing_pipeline_surface_analyses/Analysis_in_Python/rois/std.60.rh.OTC_extended.binary.sig_mask.niml.dset\n"
     ]
    }
   ],
   "source": [
    "hemis = ['lh','rh']\n",
    "for hemi in hemis:\n",
    "    annot = f'std.60.{hemi}.aparc.a2009s.annot.niml.dset'\n",
    "    ind_roi = ('6610140,'  # ITG (FS volumetric index = 12137)\n",
    "               '1346781,'  # Lateral Occipital-Temporal Sulcus\n",
    "               '11842581,' # Inferior Temporal Sulcus\n",
    "               '9180220,'   # Lateral Occipital-Temporal Fusiform Gyrus\n",
    "               '13158500,'  # Anterior Transverse Collateral Sulcus  \n",
    "               '13158410,'  # Posterior Transverse Collateral Sulcus\n",
    "               '11811863')  # Inferior Occipital gyrus\n",
    "    signal_mask = f'UNION_2MAD_Mask_50perc_mask_{hemi}_smooth.niml.dset'\n",
    "    out_file = f'std.60.{hemi}.OTC_extended.niml.dset'\n",
    "    out_dir = '/Volumes/NBL_Projects/NSF_SNP/matfiles/' + \\\n",
    "              'preprocessing_pipeline_surface_analyses/Analysis_in_Python/rois/'\n",
    "    create_masks(annot,ind_roi,signal_mask,out_file,out_dir)\n"
   ]
  },
  {
   "cell_type": "code",
   "execution_count": null,
   "id": "90bc6f77",
   "metadata": {},
   "outputs": [],
   "source": []
  },
  {
   "cell_type": "code",
   "execution_count": null,
   "id": "833adbb6",
   "metadata": {},
   "outputs": [],
   "source": []
  },
  {
   "cell_type": "code",
   "execution_count": null,
   "id": "2d812ce5",
   "metadata": {},
   "outputs": [],
   "source": []
  }
 ],
 "metadata": {
  "kernelspec": {
   "display_name": "Python 3 (ipykernel)",
   "language": "python",
   "name": "python3"
  },
  "language_info": {
   "codemirror_mode": {
    "name": "ipython",
    "version": 3
   },
   "file_extension": ".py",
   "mimetype": "text/x-python",
   "name": "python",
   "nbconvert_exporter": "python",
   "pygments_lexer": "ipython3",
   "version": "3.8.8"
  }
 },
 "nbformat": 4,
 "nbformat_minor": 5
}
